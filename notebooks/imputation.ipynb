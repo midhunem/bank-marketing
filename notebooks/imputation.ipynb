{
 "cells": [
  {
   "cell_type": "code",
   "execution_count": null,
   "id": "3eb8cd95",
   "metadata": {},
   "outputs": [],
   "source": [
    "# mport libraries\n",
    "import pandas as pd\n",
    "import numpy as np"
   ]
  },
  {
   "cell_type": "code",
   "execution_count": null,
   "id": "795c0188",
   "metadata": {},
   "outputs": [],
   "source": [
    "# Load data and display first 5 rows\n",
    "bank_df = pd.read_csv(\"../data/raw_data/bank-additional-full.csv\",sep=';')\n",
    "bank_df.head()"
   ]
  },
  {
   "cell_type": "code",
   "execution_count": null,
   "id": "f655d611",
   "metadata": {},
   "outputs": [],
   "source": [
    "# Drop duplicate rows\n",
    "bank_df_unique = bank_df.drop_duplicates(keep='first')\n",
    "bank_df_unique.shape"
   ]
  },
  {
   "cell_type": "code",
   "execution_count": null,
   "id": "8aa1c9d5",
   "metadata": {},
   "outputs": [],
   "source": [
    "# Get null count and percentage. Converted value \"Unknown\" to nan.\n",
    "def get_null_count_perc(df):\n",
    "    \n",
    "    df_copy = df.copy()\n",
    "    for i in df_copy.columns:\n",
    "        df_copy[i] = np.where(df_copy[i] == \"unknown\", np.nan, df_copy[i])\n",
    "    null_count = df_copy.isnull().sum()\n",
    "\n",
    "    # Get percentage of null values in each column\n",
    "    total_rows = len(df_copy)\n",
    "    null_percentage = (null_count / total_rows) * 100\n",
    "\n",
    "    # Create a DataFrame to display the results\n",
    "    result_df = pd.DataFrame({'Null Count': null_count, 'Null Percentage': null_percentage})\n",
    "    return result_df\n",
    "get_null_count_perc(bank_df_unique)"
   ]
  },
  {
   "cell_type": "code",
   "execution_count": null,
   "id": "4b9e4eff",
   "metadata": {},
   "outputs": [],
   "source": [
    "def cross_tab(df,f1,f2):\n",
    "    jobs=list(df[f1].unique())\n",
    "    edu=list(df[f2].unique())\n",
    "    dataframes=[]\n",
    "    for e in edu:\n",
    "        dfe=df[df[f2]==e]\n",
    "        dfejob=dfe.groupby(f1).count()[f2]\n",
    "        dataframes.append(dfejob)\n",
    "    xx=pd.concat(dataframes,axis=1)\n",
    "    xx.columns=edu\n",
    "    xx=xx.fillna(0)\n",
    "    return xx"
   ]
  },
  {
   "cell_type": "code",
   "execution_count": null,
   "id": "0a6dd855",
   "metadata": {},
   "outputs": [],
   "source": [
    "cross_tab(bank_df_unique,'job','education')"
   ]
  },
  {
   "cell_type": "markdown",
   "id": "081349b0",
   "metadata": {},
   "source": [
    "#### Infrence\n",
    "--------------\n",
    "For admin job above 60% is having university degree in the dataset. <br>\n",
    "For blue collar job education is basic in the dataset.<br>\n",
    "entrepreneur is not following any pattern. <br>\n",
    "For House maid job around 50% is havingbasic4y degree in the dataset. <br>\n",
    "For Management job above 70% is having university degree in the dataset. <br>\n",
    "For self-employed job above 50% is having university degree in the dataset. <br>\n",
    "For services job above 60% is having high school degree in the dataset. <br>\n",
    "For technician job above 50% is having professional course degree in the dataset.\n"
   ]
  },
  {
   "cell_type": "code",
   "execution_count": null,
   "id": "e21dea44",
   "metadata": {},
   "outputs": [],
   "source": [
    "bank_df_unique['job'][bank_df_unique['age']>60].value_counts()"
   ]
  },
  {
   "cell_type": "markdown",
   "id": "aeb800bd",
   "metadata": {},
   "source": [
    "Job greater than 60 is retired in 65% of cases and which definitely makes sense"
   ]
  },
  {
   "cell_type": "code",
   "execution_count": null,
   "id": "f8e5174f",
   "metadata": {},
   "outputs": [],
   "source": [
    "# Impute missing values in Job and education : Assuming Job is influenced by education\n",
    "\n",
    "\n",
    "bank_df_unique.loc[(bank_df_unique['age']>60) & (bank_df_unique['job']=='unknown'), 'job'] = 'retired'\n",
    "\n",
    "bank_df_unique.loc[(bank_df_unique['education']=='unknown') & (bank_df_unique['job']=='management'), 'education'] = 'university.degree'\n",
    "bank_df_unique.loc[(bank_df_unique['education']=='unknown') & (bank_df_unique['job']=='services'), 'education'] = 'high.school'\n",
    "bank_df_unique.loc[(bank_df_unique['education']=='unknown') & (bank_df_unique['job']=='housemaid'), 'education'] = 'basic.4y'\n",
    "bank_df_unique.loc[(bank_df_unique['education']=='unknown') & (bank_df_unique['job']=='admin'), 'education'] = 'university.degree'\n",
    "bank_df_unique.loc[(bank_df_unique['education']=='unknown') & (bank_df_unique['job']=='technician'), 'education'] = 'professional.course'\n",
    "\n",
    "\n",
    "\n",
    "bank_df_unique.loc[(bank_df_unique['job'] == 'unknown') & (bank_df_unique['education']=='basic.4y'), 'job'] = 'blue-collar'\n",
    "bank_df_unique.loc[(bank_df_unique['job'] == 'unknown') & (bank_df_unique['education']=='basic.6y'), 'job'] = 'blue-collar'\n",
    "bank_df_unique.loc[(bank_df_unique['job'] == 'unknown') & (bank_df_unique['education']=='basic.9y'), 'job'] = 'blue-collar'\n",
    "bank_df_unique.loc[(bank_df_unique['job']=='unknown') & (bank_df_unique['education']=='professional.course'), 'job'] = 'technician'\n",
    "bank_df_unique.loc[(bank_df_unique['job']=='unknown') & (bank_df_unique['education']=='university.degree'), 'job'] = 'management'\n",
    "bank_df_unique.loc[(bank_df_unique['job']=='unknown') & (bank_df_unique['education']=='high.school'), 'job'] = 'services'\n",
    "bank_df_unique.loc[(bank_df_unique['job']=='unknown') & (bank_df_unique['education']=='basic.4y'), 'job'] = 'housemaid'\n",
    "\n",
    "\n"
   ]
  },
  {
   "cell_type": "code",
   "execution_count": null,
   "id": "e7f64888",
   "metadata": {},
   "outputs": [],
   "source": [
    "cross_tab(bank_df_unique,'job','education')"
   ]
  },
  {
   "cell_type": "code",
   "execution_count": null,
   "id": "4ea043cf",
   "metadata": {},
   "outputs": [],
   "source": [
    "cross_tab(bank_df_unique,'job','housing')"
   ]
  },
  {
   "cell_type": "markdown",
   "id": "8189f684",
   "metadata": {},
   "source": [
    "#### Inference : There is no relation between job and housing (has housing loan?)"
   ]
  },
  {
   "cell_type": "code",
   "execution_count": null,
   "id": "a8a466f2",
   "metadata": {},
   "outputs": [],
   "source": [
    "get_null_count_perc(bank_df_unique)"
   ]
  },
  {
   "cell_type": "code",
   "execution_count": null,
   "id": "5bcef589",
   "metadata": {},
   "outputs": [],
   "source": [
    "bank_df_unique['pdays'].value_counts()"
   ]
  },
  {
   "cell_type": "markdown",
   "id": "03a9e59b",
   "metadata": {},
   "source": [
    "pdays - numeric; 999 means client was not previously contacted\n",
    "\n",
    "Creating a new categorical column with values as client not contacted, contacted_less_than_5day, contacted_5_15day, contacted_greaterthan_15day"
   ]
  },
  {
   "cell_type": "code",
   "execution_count": null,
   "id": "889da235",
   "metadata": {},
   "outputs": [],
   "source": [
    "conditions = [\n",
    "    (bank_df_unique['pdays'] == 999),\n",
    "    (bank_df_unique['pdays'] >= 0) & (bank_df_unique['pdays'] <= 5),\n",
    "    (bank_df_unique['pdays'] > 5) & (bank_df_unique['pdays'] <= 15),\n",
    "    (bank_df_unique['pdays'] > 15)\n",
    "]\n",
    "values = ['not_contacted', 'contacted_less_than_5day', 'contacted_5_15day', 'contacted_greaterthan_15day']"
   ]
  },
  {
   "cell_type": "code",
   "execution_count": null,
   "id": "10f3ca42",
   "metadata": {},
   "outputs": [],
   "source": [
    "bank_df_unique['pdays_category'] = np.select(conditions, values)"
   ]
  },
  {
   "cell_type": "code",
   "execution_count": null,
   "id": "28d5b809",
   "metadata": {},
   "outputs": [],
   "source": [
    "bank_df_unique['pdays_category'].value_counts()"
   ]
  },
  {
   "cell_type": "code",
   "execution_count": null,
   "id": "9e06da63",
   "metadata": {},
   "outputs": [],
   "source": [
    "# Dropping pdays\n",
    "bank_df_unique = bank_df_unique.drop('pdays', axis=1)"
   ]
  },
  {
   "cell_type": "code",
   "execution_count": null,
   "id": "b92aaba4",
   "metadata": {},
   "outputs": [],
   "source": [
    "# Dropping duration\n",
    "bank_df_unique=bank_df_unique.drop(['duration'],axis=1)"
   ]
  },
  {
   "cell_type": "code",
   "execution_count": null,
   "id": "48897684",
   "metadata": {},
   "outputs": [],
   "source": [
    "# One hot encoding\n",
    "bank_df_unique = pd.get_dummies(bank_df_unique,drop_first=True)"
   ]
  },
  {
   "cell_type": "code",
   "execution_count": null,
   "id": "b6091fdf",
   "metadata": {},
   "outputs": [],
   "source": [
    "bank_df_unique.columns"
   ]
  },
  {
   "cell_type": "code",
   "execution_count": null,
   "id": "f202e232",
   "metadata": {},
   "outputs": [],
   "source": [
    "bank_df_unique = bank_df_unique.rename(columns={'y_yes': 'y'})"
   ]
  },
  {
   "cell_type": "code",
   "execution_count": null,
   "id": "92bc4eae",
   "metadata": {},
   "outputs": [],
   "source": [
    "bank_df_unique.to_csv(\"../data/processed_data/bank-additional-full-processed.csv\",index = False)"
   ]
  },
  {
   "cell_type": "code",
   "execution_count": null,
   "id": "4bd4e036",
   "metadata": {},
   "outputs": [],
   "source": []
  },
  {
   "cell_type": "code",
   "execution_count": null,
   "id": "8703cf7c",
   "metadata": {},
   "outputs": [],
   "source": [
    "###############################################################################################################"
   ]
  },
  {
   "cell_type": "code",
   "execution_count": null,
   "id": "522c1b94",
   "metadata": {},
   "outputs": [],
   "source": []
  },
  {
   "cell_type": "code",
   "execution_count": null,
   "id": "b8cfa1cf",
   "metadata": {},
   "outputs": [],
   "source": [
    "### Input for prediction\n",
    "d = {'age': [56],\n",
    " 'job': ['housemaid'],\n",
    " 'marital': ['married'],\n",
    " 'education': ['basic.4y'],\n",
    " 'default': ['no'],\n",
    " 'housing': ['no'],\n",
    " 'loan': ['no'],\n",
    " 'contact': ['telephone'],\n",
    " 'month': ['may'],\n",
    " 'day_of_week': ['mon'],\n",
    " 'duration': [261],\n",
    " 'campaign': [1],\n",
    " 'pdays': [999],\n",
    " 'previous': [0],\n",
    " 'poutcome': ['nonexistent'],\n",
    " 'emp.var.rate': [1.1],\n",
    " 'cons.price.idx': [93.994],\n",
    " 'cons.conf.idx': [-36.4],\n",
    " 'euribor3m': [4.857],\n",
    " 'nr.employed': [5191.0]}"
   ]
  },
  {
   "cell_type": "code",
   "execution_count": null,
   "id": "10dd6195",
   "metadata": {},
   "outputs": [],
   "source": []
  }
 ],
 "metadata": {
  "kernelspec": {
   "display_name": "bank",
   "language": "python",
   "name": "bank"
  },
  "language_info": {
   "codemirror_mode": {
    "name": "ipython",
    "version": 3
   },
   "file_extension": ".py",
   "mimetype": "text/x-python",
   "name": "python",
   "nbconvert_exporter": "python",
   "pygments_lexer": "ipython3",
   "version": "3.11.8"
  }
 },
 "nbformat": 4,
 "nbformat_minor": 5
}
