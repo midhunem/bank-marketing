{
 "cells": [
  {
   "cell_type": "code",
   "execution_count": null,
   "id": "cedc8e4c",
   "metadata": {},
   "outputs": [],
   "source": [
    "# mport libraries\n",
    "import pandas as pd\n",
    "import numpy as np\n",
    "import matplotlib.pyplot as plt\n",
    "import seaborn as sns"
   ]
  },
  {
   "cell_type": "code",
   "execution_count": null,
   "id": "7aaf9af9",
   "metadata": {},
   "outputs": [],
   "source": [
    "# Load data and display first 5 rows\n",
    "bank_df = pd.read_csv(\"../data/raw_data/bank-additional-full.csv\",sep=';')\n",
    "bank_df.head()"
   ]
  },
  {
   "cell_type": "code",
   "execution_count": null,
   "id": "dac293c1",
   "metadata": {},
   "outputs": [],
   "source": [
    "bank_df.shape"
   ]
  },
  {
   "cell_type": "markdown",
   "id": "3ee99b2a",
   "metadata": {},
   "source": [
    "## EDA"
   ]
  },
  {
   "cell_type": "code",
   "execution_count": null,
   "id": "796227a9",
   "metadata": {},
   "outputs": [],
   "source": [
    "bank_df.info()"
   ]
  },
  {
   "cell_type": "code",
   "execution_count": null,
   "id": "97685ba5",
   "metadata": {},
   "outputs": [],
   "source": [
    "bank_df.duplicated().sum()"
   ]
  },
  {
   "cell_type": "markdown",
   "id": "bbdff88a",
   "metadata": {},
   "source": [
    "#### There are 12 duplicated rows in the dataset"
   ]
  },
  {
   "cell_type": "code",
   "execution_count": null,
   "id": "959406b2",
   "metadata": {},
   "outputs": [],
   "source": [
    "# Display duplicated rows and keep all\n",
    "bank_df[bank_df.duplicated(keep=False)]"
   ]
  },
  {
   "cell_type": "code",
   "execution_count": null,
   "id": "7846040c",
   "metadata": {},
   "outputs": [],
   "source": [
    "# Dropping the duplicate rows and keep the first\n",
    "bank_df_unique = bank_df.drop_duplicates(keep='first')\n",
    "bank_df_unique.shape\n"
   ]
  },
  {
   "cell_type": "code",
   "execution_count": null,
   "id": "68abc54a",
   "metadata": {},
   "outputs": [],
   "source": [
    "# Checking null value count\n",
    "bank_df_unique.isnull().sum()"
   ]
  },
  {
   "cell_type": "code",
   "execution_count": null,
   "id": "ac836094",
   "metadata": {},
   "outputs": [],
   "source": [
    "# Get unique value count from target column\n",
    "bank_df_unique['y'].value_counts()"
   ]
  },
  {
   "cell_type": "code",
   "execution_count": null,
   "id": "7bbf83dd",
   "metadata": {},
   "outputs": [],
   "source": [
    "# plot barplot for categorical columns. Visualizing categorical data count\n",
    "categorcial_columns = ['job', 'marital', 'education', 'default', 'loan', 'contact', 'month', 'day_of_week', 'poutcome','y']\n",
    "for col in categorcial_columns:\n",
    "    plt.figure()\n",
    "    value_counts = bank_df_unique[col].value_counts()\n",
    "    value_counts.plot(kind='bar')\n",
    "    plt.title('Bar Plot of Category Counts')\n",
    "    plt.xlabel('Category')\n",
    "    plt.ylabel('Count')\n",
    "    plt.show()"
   ]
  },
  {
   "cell_type": "markdown",
   "id": "b01d3e10",
   "metadata": {},
   "source": [
    "#### Note : \"Unknown\" Value is present is many category "
   ]
  },
  {
   "cell_type": "markdown",
   "id": "798655c3",
   "metadata": {},
   "source": [
    "### visualize the distribution or frequency of a single numerical variable"
   ]
  },
  {
   "cell_type": "code",
   "execution_count": null,
   "id": "602279bc",
   "metadata": {},
   "outputs": [],
   "source": [
    "def plot_histograms(df, columns):\n",
    "\n",
    "    num_cols = len(columns)\n",
    "    fig, axes = plt.subplots(num_cols, 1, figsize=(10, 5*num_cols))\n",
    "    \n",
    "    for i, col in enumerate(columns):\n",
    "        ax = axes[i]\n",
    "        ax.hist(df[col], bins=20, color='skyblue', edgecolor='black')\n",
    "        ax.set_title(f'Histogram of {col}')\n",
    "        ax.set_xlabel(col)\n",
    "        ax.set_ylabel('Count')\n",
    "        ax.grid(True)\n",
    "    \n",
    "    plt.tight_layout()\n",
    "    plt.show()\n"
   ]
  },
  {
   "cell_type": "code",
   "execution_count": null,
   "id": "8d064503",
   "metadata": {},
   "outputs": [],
   "source": [
    " plot_histograms(bank_df_unique, ['age','campaign','pdays','previous'])"
   ]
  },
  {
   "cell_type": "code",
   "execution_count": null,
   "id": "97a9bcf9",
   "metadata": {},
   "outputs": [],
   "source": [
    "def plot_correlation(df):\n",
    "    # Select only numeric columns\n",
    "    numeric_cols = df.select_dtypes(include=['number'])\n",
    "\n",
    "    # Compute correlation matrix\n",
    "    corr_matrix = numeric_cols.corr()\n",
    "\n",
    "    # Plot correlation matrix\n",
    "    plt.figure(figsize=(10, 8))\n",
    "    sns.heatmap(corr_matrix, annot=True, cmap='coolwarm', fmt=\".2f\")\n",
    "    plt.title('Correlation Plot')\n",
    "    plt.show()"
   ]
  },
  {
   "cell_type": "code",
   "execution_count": null,
   "id": "cb1a5b7c",
   "metadata": {},
   "outputs": [],
   "source": [
    "plot_correlation(bank_df_unique)"
   ]
  },
  {
   "cell_type": "code",
   "execution_count": null,
   "id": "2059e615",
   "metadata": {},
   "outputs": [],
   "source": []
  },
  {
   "cell_type": "code",
   "execution_count": null,
   "id": "7b322214",
   "metadata": {},
   "outputs": [],
   "source": []
  }
 ],
 "metadata": {
  "kernelspec": {
   "display_name": "bank",
   "language": "python",
   "name": "bank"
  },
  "language_info": {
   "codemirror_mode": {
    "name": "ipython",
    "version": 3
   },
   "file_extension": ".py",
   "mimetype": "text/x-python",
   "name": "python",
   "nbconvert_exporter": "python",
   "pygments_lexer": "ipython3",
   "version": "3.11.8"
  }
 },
 "nbformat": 4,
 "nbformat_minor": 5
}
